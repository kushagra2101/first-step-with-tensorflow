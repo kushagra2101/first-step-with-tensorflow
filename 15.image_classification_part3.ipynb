{
  "nbformat": 4,
  "nbformat_minor": 0,
  "metadata": {
    "colab": {
      "name": "image_classification_part3.ipynb",
      "version": "0.3.2",
      "views": {},
      "default_view": {},
      "provenance": [],
      "collapsed_sections": [
        "jTEzoMx6CasV"
      ]
    },
    "kernelspec": {
      "display_name": "Python 2",
      "name": "python2"
    },
    "accelerator": "GPU"
  },
  "cells": [
    {
      "metadata": {
        "id": "jTEzoMx6CasV",
        "colab_type": "text"
      },
      "cell_type": "markdown",
      "source": [
        "#### Copyright 2018 Google LLC."
      ]
    },
    {
      "metadata": {
        "id": "IhmPj1VVCfWb",
        "colab_type": "code",
        "colab": {
          "autoexec": {
            "startup": false,
            "wait_interval": 0
          }
        }
      },
      "cell_type": "code",
      "source": [
        "# Licensed under the Apache License, Version 2.0 (the \"License\");\n",
        "# you may not use this file except in compliance with the License.\n",
        "# You may obtain a copy of the License at\n",
        "#\n",
        "# https://www.apache.org/licenses/LICENSE-2.0\n",
        "#\n",
        "# Unless required by applicable law or agreed to in writing, software\n",
        "# distributed under the License is distributed on an \"AS IS\" BASIS,\n",
        "# WITHOUT WARRANTIES OR CONDITIONS OF ANY KIND, either express or implied.\n",
        "# See the License for the specific language governing permissions and\n",
        "# limitations under the License."
      ],
      "execution_count": 0,
      "outputs": []
    },
    {
      "metadata": {
        "id": "YHK6DyunSbs4",
        "colab_type": "text"
      },
      "cell_type": "markdown",
      "source": [
        "# Cat vs. Dog Image Classification\n",
        "## Exercise 3: Feature Extraction and Fine-Tuning\n",
        "**_Estimated completion time: 30 minutes_**\n",
        "\n",
        "In Exercise 1, we built a convnet from scratch, and were able to achieve an accuracy of about 70%. With the addition of data augmentation and dropout in Exercise 2, we were able to increase accuracy to about 80%. That seems decent, but 20% is still too high of an error rate. Maybe we just don't have enough training data available to properly solve the problem. What other approaches can we try?\n",
        "\n",
        "In this exercise, we'll look at two techniques for repurposing feature data generated from image models that have already been trained on large sets of data, **feature extraction** and **fine tuning**, and use them to improve the accuracy of our cat vs. dog classification model."
      ]
    },
    {
      "metadata": {
        "id": "dI5rmt4UBwXs",
        "colab_type": "text"
      },
      "cell_type": "markdown",
      "source": [
        "## Feature Extraction Using a Pretrained Model\n",
        "\n",
        "One thing that is commonly done in computer vision is to take a model trained on a very large dataset, run it on your own, smaller dataset, and extract the intermediate representations (features) that the model generates. These representations are frequently informative for your own computer vision task, even though the task may be quite different from the problem that the original model was trained on. This versatility and repurposability of convnets is one of the most interesting aspects of deep learning.\n",
        "\n",
        "In our case, we will use the [Inception V3 model](https://arxiv.org/abs/1512.00567) developed at Google, and pre-trained on [ImageNet](http://image-net.org/), a large dataset of web images (1.4M images and 1000 classes). This is a powerful model; let's see what the features that it has learned can do for our cat vs. dog problem.\n",
        "\n",
        "First, we need to pick which intermediate layer of Inception V3 we will use for feature extraction. A common practice is to use the output of the very last layer before the `Flatten` operation, the so-called \"bottleneck layer.\" The reasoning here is that the following fully connected layers will be too specialized for the task the network was trained on, and thus the features learned by these layers won't be very useful for a new task. The bottleneck features, however, retain much generality.\n",
        "\n",
        "Let's instantiate an Inception V3 model preloaded with weights trained on ImageNet:\n"
      ]
    },
    {
      "metadata": {
        "id": "1xJZ5glPPCRz",
        "colab_type": "code",
        "colab": {
          "autoexec": {
            "startup": false,
            "wait_interval": 0
          }
        }
      },
      "cell_type": "code",
      "source": [
        "import os\n",
        "\n",
        "from tensorflow.keras import layers\n",
        "from tensorflow.keras import Model"
      ],
      "execution_count": 0,
      "outputs": []
    },
    {
      "metadata": {
        "id": "VaXLMtYiF0t9",
        "colab_type": "text"
      },
      "cell_type": "markdown",
      "source": [
        "Now let's download the weights:"
      ]
    },
    {
      "metadata": {
        "id": "KMrbllgAFipZ",
        "colab_type": "code",
        "colab": {
          "autoexec": {
            "startup": false,
            "wait_interval": 0
          },
          "base_uri": "https://localhost:8080/",
          "height": 204
        },
        "outputId": "8e6d2fc5-65c0-4bfe-e923-81ce3a9690c2",
        "executionInfo": {
          "status": "ok",
          "timestamp": 1533562431676,
          "user_tz": -330,
          "elapsed": 3525,
          "user": {
            "displayName": "",
            "photoUrl": "",
            "userId": ""
          }
        }
      },
      "cell_type": "code",
      "source": [
        "!wget --no-check-certificate \\\n",
        "    https://storage.googleapis.com/mledu-datasets/inception_v3_weights_tf_dim_ordering_tf_kernels_notop.h5 \\\n",
        "    -O /tmp/inception_v3_weights_tf_dim_ordering_tf_kernels_notop.h5"
      ],
      "execution_count": 2,
      "outputs": [
        {
          "output_type": "stream",
          "text": [
            "--2018-08-06 13:33:49--  https://storage.googleapis.com/mledu-datasets/inception_v3_weights_tf_dim_ordering_tf_kernels_notop.h5\r\n",
            "Resolving storage.googleapis.com (storage.googleapis.com)... 74.125.69.128, 2607:f8b0:4001:c14::80\r\n",
            "Connecting to storage.googleapis.com (storage.googleapis.com)|74.125.69.128|:443... connected.\n",
            "HTTP request sent, awaiting response... 200 OK\n",
            "Length: 87910968 (84M) [application/x-hdf]\n",
            "Saving to: ‘/tmp/inception_v3_weights_tf_dim_ordering_tf_kernels_notop.h5’\n",
            "\n",
            "/tmp/inception_v3_w 100%[===================>]  83.84M   151MB/s    in 0.6s    \n",
            "\n",
            "2018-08-06 13:33:50 (151 MB/s) - ‘/tmp/inception_v3_weights_tf_dim_ordering_tf_kernels_notop.h5’ saved [87910968/87910968]\n",
            "\n"
          ],
          "name": "stdout"
        }
      ]
    },
    {
      "metadata": {
        "id": "UnRiGBfOF8rq",
        "colab_type": "code",
        "colab": {
          "autoexec": {
            "startup": false,
            "wait_interval": 0
          }
        }
      },
      "cell_type": "code",
      "source": [
        "from tensorflow.keras.applications.inception_v3 import InceptionV3\n",
        "\n",
        "local_weights_file = '/tmp/inception_v3_weights_tf_dim_ordering_tf_kernels_notop.h5'\n",
        "pre_trained_model = InceptionV3(\n",
        "    input_shape=(150, 150, 3), include_top=False, weights=None)\n",
        "pre_trained_model.load_weights(local_weights_file)"
      ],
      "execution_count": 0,
      "outputs": []
    },
    {
      "metadata": {
        "id": "IcYZPBS3bTAj",
        "colab_type": "text"
      },
      "cell_type": "markdown",
      "source": [
        "By specifying the `include_top=False` argument, we load a network that doesn't include the classification layers at the top—ideal for feature extraction."
      ]
    },
    {
      "metadata": {
        "id": "CFxrqTuJee5m",
        "colab_type": "text"
      },
      "cell_type": "markdown",
      "source": [
        "Let's make the model non-trainable, since we will only use it for feature extraction; we won't update the weights of the pretrained model during training."
      ]
    },
    {
      "metadata": {
        "id": "a38rB3lyedcB",
        "colab_type": "code",
        "colab": {
          "autoexec": {
            "startup": false,
            "wait_interval": 0
          }
        }
      },
      "cell_type": "code",
      "source": [
        "for layer in pre_trained_model.layers:\n",
        "  layer.trainable = False"
      ],
      "execution_count": 0,
      "outputs": []
    },
    {
      "metadata": {
        "id": "XGBGDiOAepnO",
        "colab_type": "text"
      },
      "cell_type": "markdown",
      "source": [
        "The layer we will use for feature extraction in Inception v3 is called `mixed7`. It is not the bottleneck of the network, but we are using it to keep a sufficiently large feature map (7x7 in this case). (Using the bottleneck layer would have resulting in a 3x3 feature map, which is a bit small.) Let's get the output from `mixed7`:"
      ]
    },
    {
      "metadata": {
        "id": "Cj4rXshqbQlS",
        "colab_type": "code",
        "colab": {
          "autoexec": {
            "startup": false,
            "wait_interval": 0
          },
          "base_uri": "https://localhost:8080/",
          "height": 34
        },
        "outputId": "e129b2b4-a45b-44ef-85e8-ed9e6cce7bac",
        "executionInfo": {
          "status": "ok",
          "timestamp": 1533562456456,
          "user_tz": -330,
          "elapsed": 1558,
          "user": {
            "displayName": "",
            "photoUrl": "",
            "userId": ""
          }
        }
      },
      "cell_type": "code",
      "source": [
        "last_layer = pre_trained_model.get_layer('mixed7')\n",
        "print 'last layer output shape:', last_layer.output_shape\n",
        "last_output = last_layer.output"
      ],
      "execution_count": 5,
      "outputs": [
        {
          "output_type": "stream",
          "text": [
            "last layer output shape: (None, 7, 7, 768)\n"
          ],
          "name": "stdout"
        }
      ]
    },
    {
      "metadata": {
        "id": "XxHk6XQLeUWh",
        "colab_type": "text"
      },
      "cell_type": "markdown",
      "source": [
        "Now let's stick a fully connected classifier on top of `last_output`:"
      ]
    },
    {
      "metadata": {
        "id": "BMXb913pbvFg",
        "colab_type": "code",
        "colab": {
          "autoexec": {
            "startup": false,
            "wait_interval": 0
          }
        }
      },
      "cell_type": "code",
      "source": [
        "from tensorflow.keras.optimizers import RMSprop\n",
        "\n",
        "# Flatten the output layer to 1 dimension\n",
        "x = layers.Flatten()(last_output)\n",
        "# Add a fully connected layer with 1,024 hidden units and ReLU activation\n",
        "x = layers.Dense(1024, activation='relu')(x)\n",
        "# Add a dropout rate of 0.2\n",
        "x = layers.Dropout(0.2)(x)\n",
        "# Add a final sigmoid layer for classification\n",
        "x = layers.Dense(1, activation='sigmoid')(x)\n",
        "\n",
        "# Configure and compile the model\n",
        "model = Model(pre_trained_model.input, x)\n",
        "model.compile(loss='binary_crossentropy',\n",
        "              optimizer=RMSprop(lr=0.0001),\n",
        "              metrics=['acc'])"
      ],
      "execution_count": 0,
      "outputs": []
    },
    {
      "metadata": {
        "id": "_6ECjowwV5Ug",
        "colab_type": "text"
      },
      "cell_type": "markdown",
      "source": [
        "For examples and data preprocessing, let's use the same files and `train_generator` as we did in Exercise 2."
      ]
    },
    {
      "metadata": {
        "id": "Cl-IqOTjZVw_",
        "colab_type": "text"
      },
      "cell_type": "markdown",
      "source": [
        "**NOTE:** The 2,000 images used in this exercise are excerpted from the [\"Dogs vs. Cats\" dataset](https://www.kaggle.com/c/dogs-vs-cats/data) available on Kaggle, which contains 25,000 images. Here, we use a subset of the full dataset to decrease training time for educational purposes."
      ]
    },
    {
      "metadata": {
        "id": "O4s8HckqGlnb",
        "colab_type": "code",
        "colab": {
          "autoexec": {
            "startup": false,
            "wait_interval": 0
          },
          "base_uri": "https://localhost:8080/",
          "height": 204
        },
        "outputId": "45215cb3-7c29-4d50-91d6-7896973c2db6",
        "executionInfo": {
          "status": "ok",
          "timestamp": 1533562482013,
          "user_tz": -330,
          "elapsed": 9336,
          "user": {
            "displayName": "",
            "photoUrl": "",
            "userId": ""
          }
        }
      },
      "cell_type": "code",
      "source": [
        "!wget --no-check-certificate \\\n",
        "   https://storage.googleapis.com/mledu-datasets/cats_and_dogs_filtered.zip -O \\\n",
        "   /tmp/cats_and_dogs_filtered.zip"
      ],
      "execution_count": 7,
      "outputs": [
        {
          "output_type": "stream",
          "text": [
            "--2018-08-06 13:34:35--  https://storage.googleapis.com/mledu-datasets/cats_and_dogs_filtered.zip\r\n",
            "Resolving storage.googleapis.com (storage.googleapis.com)... 74.125.69.128, 2607:f8b0:4001:c20::80\r\n",
            "Connecting to storage.googleapis.com (storage.googleapis.com)|74.125.69.128|:443... connected.\n",
            "HTTP request sent, awaiting response... 200 OK\n",
            "Length: 68606236 (65M) [application/zip]\n",
            "Saving to: ‘/tmp/cats_and_dogs_filtered.zip’\n",
            "\n",
            "/tmp/cats_and_dogs_ 100%[===================>]  65.43M   133MB/s    in 0.5s    \n",
            "\n",
            "2018-08-06 13:34:35 (133 MB/s) - ‘/tmp/cats_and_dogs_filtered.zip’ saved [68606236/68606236]\n",
            "\n"
          ],
          "name": "stdout"
        }
      ]
    },
    {
      "metadata": {
        "id": "Fl9XXARuV_eg",
        "colab_type": "code",
        "colab": {
          "autoexec": {
            "startup": false,
            "wait_interval": 0
          },
          "base_uri": "https://localhost:8080/",
          "height": 51
        },
        "outputId": "337aed3e-5591-4450-a21f-9262cf3731ac",
        "executionInfo": {
          "status": "ok",
          "timestamp": 1533562487919,
          "user_tz": -330,
          "elapsed": 5681,
          "user": {
            "displayName": "",
            "photoUrl": "",
            "userId": ""
          }
        }
      },
      "cell_type": "code",
      "source": [
        "import os\n",
        "import zipfile\n",
        "\n",
        "from tensorflow.keras.preprocessing.image import ImageDataGenerator\n",
        "\n",
        "local_zip = '/tmp/cats_and_dogs_filtered.zip'\n",
        "zip_ref = zipfile.ZipFile(local_zip, 'r')\n",
        "zip_ref.extractall('/tmp')\n",
        "zip_ref.close()\n",
        "\n",
        "# Define our example directories and files\n",
        "base_dir = '/tmp/cats_and_dogs_filtered'\n",
        "train_dir = os.path.join(base_dir, 'train')\n",
        "validation_dir = os.path.join(base_dir, 'validation')\n",
        "\n",
        "# Directory with our training cat pictures\n",
        "train_cats_dir = os.path.join(train_dir, 'cats')\n",
        "\n",
        "# Directory with our training dog pictures\n",
        "train_dogs_dir = os.path.join(train_dir, 'dogs')\n",
        "\n",
        "# Directory with our validation cat pictures\n",
        "validation_cats_dir = os.path.join(validation_dir, 'cats')\n",
        "\n",
        "# Directory with our validation dog pictures\n",
        "validation_dogs_dir = os.path.join(validation_dir, 'dogs')\n",
        "\n",
        "train_cat_fnames = os.listdir(train_cats_dir)\n",
        "train_dog_fnames = os.listdir(train_dogs_dir)\n",
        "\n",
        "# Add our data-augmentation parameters to ImageDataGenerator\n",
        "train_datagen = ImageDataGenerator(\n",
        "    rescale=1./255,\n",
        "    rotation_range=40,\n",
        "    width_shift_range=0.2,\n",
        "    height_shift_range=0.2,\n",
        "    shear_range=0.2,\n",
        "    zoom_range=0.2,\n",
        "    horizontal_flip=True)\n",
        "\n",
        "# Note that the validation data should not be augmented!\n",
        "test_datagen = ImageDataGenerator(rescale=1./255)\n",
        "\n",
        "train_generator = train_datagen.flow_from_directory(\n",
        "        train_dir, # This is the source directory for training images\n",
        "        target_size=(150, 150),  # All images will be resized to 150x150\n",
        "        batch_size=20,\n",
        "        # Since we use binary_crossentropy loss, we need binary labels\n",
        "        class_mode='binary')\n",
        "\n",
        "# Flow validation images in batches of 20 using test_datagen generator\n",
        "validation_generator = test_datagen.flow_from_directory(\n",
        "        validation_dir,\n",
        "        target_size=(150, 150),\n",
        "        batch_size=20,\n",
        "        class_mode='binary')"
      ],
      "execution_count": 8,
      "outputs": [
        {
          "output_type": "stream",
          "text": [
            "Found 2000 images belonging to 2 classes.\n",
            "Found 1000 images belonging to 2 classes.\n"
          ],
          "name": "stdout"
        }
      ]
    },
    {
      "metadata": {
        "id": "qEC1AL7iVRLz",
        "colab_type": "text"
      },
      "cell_type": "markdown",
      "source": [
        "Finally, let's train the model using the features we extracted. We'll train on all 2000 images available, for 2 epochs, and validate on all 1,000 test images."
      ]
    },
    {
      "metadata": {
        "id": "Blhq2MAUeyGA",
        "colab_type": "code",
        "colab": {
          "autoexec": {
            "startup": false,
            "wait_interval": 0
          },
          "base_uri": "https://localhost:8080/",
          "height": 85
        },
        "outputId": "08ba2e6e-09e9-409e-e8a1-f0eb71dbf19e",
        "executionInfo": {
          "status": "ok",
          "timestamp": 1533562562866,
          "user_tz": -330,
          "elapsed": 50930,
          "user": {
            "displayName": "",
            "photoUrl": "",
            "userId": ""
          }
        }
      },
      "cell_type": "code",
      "source": [
        "history = model.fit_generator(\n",
        "      train_generator,\n",
        "      steps_per_epoch=100,\n",
        "      epochs=2,\n",
        "      validation_data=validation_generator,\n",
        "      validation_steps=50,\n",
        "      verbose=2)"
      ],
      "execution_count": 9,
      "outputs": [
        {
          "output_type": "stream",
          "text": [
            "Epoch 1/2\n",
            " - 27s - loss: 0.5290 - acc: 0.7525 - val_loss: 0.5105 - val_acc: 0.8660\n",
            "Epoch 2/2\n",
            " - 22s - loss: 0.3835 - acc: 0.8290 - val_loss: 0.2011 - val_acc: 0.9450\n"
          ],
          "name": "stdout"
        }
      ]
    },
    {
      "metadata": {
        "id": "lRjyAkE62aOG",
        "colab_type": "text"
      },
      "cell_type": "markdown",
      "source": [
        "You can see that we reach a validation accuracy of 88–90% very quickly. This is much better than the small model we trained from scratch."
      ]
    },
    {
      "metadata": {
        "id": "tt15y6IS2pBo",
        "colab_type": "text"
      },
      "cell_type": "markdown",
      "source": [
        "## Further Improving Accuracy with Fine-Tuning\n",
        "\n",
        "In our feature-extraction experiment, we only tried adding two classification layers on top of an Inception V3 layer. The weights of the pretrained network were not updated during training. One way to increase performance even further is to \"fine-tune\" the weights of the top layers of the pretrained model alongside the training of the top-level classifier. A couple of important notes on fine-tuning:\n",
        "\n",
        "- **Fine-tuning should only be attempted *after* you have trained the top-level classifier with the pretrained model set to non-trainable**. If you add a randomly initialized classifier on top of a pretrained model and attempt to train all layers jointly, the magnitude of the gradient updates will be too large (due to the random weights from the classifier), and your pretrained model will just forget everything it has learned.\n",
        "- Additionally, we **fine-tune only the *top layers* of the pre-trained model** rather than all layers of the pretrained model because, in a convnet, the higher up a layer is, the more specialized it is. The first few layers in a convnet learn very simple and generic features, which generalize to almost all types of images. But as you go higher up, the features are increasingly specific to the dataset that the model is trained on. The goal of fine-tuning is to adapt these specialized features to work with the new dataset.\n",
        "\n",
        "All we need to do to implement fine-tuning is to set the top layers of Inception V3 to be trainable, recompile the model (necessary for these changes to take effect), and resume training. Let's unfreeze all layers belonging to the `mixed7` module—i.e., all layers found after `mixed6`—and recompile the model:"
      ]
    },
    {
      "metadata": {
        "id": "_l_J4S0Z2rgg",
        "colab_type": "code",
        "colab": {
          "autoexec": {
            "startup": false,
            "wait_interval": 0
          }
        }
      },
      "cell_type": "code",
      "source": [
        "from tensorflow.keras.optimizers import SGD\n",
        "\n",
        "unfreeze = False\n",
        "\n",
        "# Unfreeze all models after \"mixed6\"\n",
        "for layer in pre_trained_model.layers:\n",
        "  if unfreeze:\n",
        "    layer.trainable = True\n",
        "  if layer.name == 'mixed6':\n",
        "    unfreeze = True\n",
        "\n",
        "# As an optimizer, here we will use SGD \n",
        "# with a very low learning rate (0.00001)\n",
        "model.compile(loss='binary_crossentropy',\n",
        "              optimizer=SGD(\n",
        "                  lr=0.00001, \n",
        "                  momentum=0.9),\n",
        "              metrics=['acc'])"
      ],
      "execution_count": 0,
      "outputs": []
    },
    {
      "metadata": {
        "id": "zE37ARlqY9da",
        "colab_type": "text"
      },
      "cell_type": "markdown",
      "source": [
        "Now let's retrain the model. We'll train on all 2000 images available, for 50 epochs, and validate on all 1,000 test images. (This may take 15-20 minutes to run.)"
      ]
    },
    {
      "metadata": {
        "id": "o_GgDGG4Y_hJ",
        "colab_type": "code",
        "colab": {
          "autoexec": {
            "startup": false,
            "wait_interval": 0
          },
          "base_uri": "https://localhost:8080/",
          "height": 1717
        },
        "outputId": "1ecd2bab-327f-47a7-cc66-64afadcc4383",
        "executionInfo": {
          "status": "ok",
          "timestamp": 1533563722621,
          "user_tz": -330,
          "elapsed": 19369,
          "user": {
            "displayName": "",
            "photoUrl": "",
            "userId": ""
          }
        }
      },
      "cell_type": "code",
      "source": [
        "history = model.fit_generator(\n",
        "      train_generator,\n",
        "      steps_per_epoch=100,\n",
        "      epochs=50,\n",
        "      validation_data=validation_generator,\n",
        "      validation_steps=50,\n",
        "      verbose=2)"
      ],
      "execution_count": 11,
      "outputs": [
        {
          "output_type": "stream",
          "text": [
            "Epoch 1/50\n",
            " - 28s - loss: 0.3097 - acc: 0.8705 - val_loss: 0.2221 - val_acc: 0.9450\n",
            "Epoch 2/50\n",
            " - 23s - loss: 0.2961 - acc: 0.8625 - val_loss: 0.2347 - val_acc: 0.9440\n",
            "Epoch 3/50\n",
            " - 23s - loss: 0.2973 - acc: 0.8680 - val_loss: 0.2449 - val_acc: 0.9420\n",
            "Epoch 4/50\n",
            " - 23s - loss: 0.2686 - acc: 0.8840 - val_loss: 0.2441 - val_acc: 0.9430\n",
            "Epoch 5/50\n",
            " - 24s - loss: 0.2851 - acc: 0.8715 - val_loss: 0.2491 - val_acc: 0.9410\n",
            "Epoch 6/50\n",
            " - 24s - loss: 0.2872 - acc: 0.8685 - val_loss: 0.2513 - val_acc: 0.9420\n",
            "Epoch 7/50\n",
            " - 23s - loss: 0.2794 - acc: 0.8770 - val_loss: 0.2522 - val_acc: 0.9410\n",
            "Epoch 8/50\n",
            " - 23s - loss: 0.2778 - acc: 0.8795 - val_loss: 0.2518 - val_acc: 0.9410\n",
            "Epoch 9/50\n",
            " - 22s - loss: 0.2876 - acc: 0.8690 - val_loss: 0.2514 - val_acc: 0.9430\n",
            "Epoch 10/50\n",
            " - 24s - loss: 0.2635 - acc: 0.8850 - val_loss: 0.2503 - val_acc: 0.9420\n",
            "Epoch 11/50\n",
            " - 23s - loss: 0.2699 - acc: 0.8890 - val_loss: 0.2498 - val_acc: 0.9420\n",
            "Epoch 12/50\n",
            " - 23s - loss: 0.2834 - acc: 0.8775 - val_loss: 0.2477 - val_acc: 0.9430\n",
            "Epoch 13/50\n",
            " - 23s - loss: 0.2929 - acc: 0.8750 - val_loss: 0.2452 - val_acc: 0.9430\n",
            "Epoch 14/50\n",
            " - 23s - loss: 0.2831 - acc: 0.8755 - val_loss: 0.2489 - val_acc: 0.9430\n",
            "Epoch 15/50\n",
            " - 22s - loss: 0.2754 - acc: 0.8800 - val_loss: 0.2500 - val_acc: 0.9430\n",
            "Epoch 16/50\n",
            " - 22s - loss: 0.2595 - acc: 0.8935 - val_loss: 0.2465 - val_acc: 0.9430\n",
            "Epoch 17/50\n",
            " - 23s - loss: 0.2746 - acc: 0.8805 - val_loss: 0.2485 - val_acc: 0.9440\n",
            "Epoch 18/50\n",
            " - 22s - loss: 0.2639 - acc: 0.8840 - val_loss: 0.2413 - val_acc: 0.9430\n",
            "Epoch 19/50\n",
            " - 23s - loss: 0.2781 - acc: 0.8805 - val_loss: 0.2405 - val_acc: 0.9430\n",
            "Epoch 20/50\n",
            " - 23s - loss: 0.2719 - acc: 0.8830 - val_loss: 0.2421 - val_acc: 0.9430\n",
            "Epoch 21/50\n",
            " - 23s - loss: 0.2617 - acc: 0.8810 - val_loss: 0.2392 - val_acc: 0.9430\n",
            "Epoch 22/50\n",
            " - 22s - loss: 0.2673 - acc: 0.8885 - val_loss: 0.2398 - val_acc: 0.9430\n",
            "Epoch 23/50\n",
            " - 23s - loss: 0.2925 - acc: 0.8665 - val_loss: 0.2433 - val_acc: 0.9430\n",
            "Epoch 24/50\n",
            " - 22s - loss: 0.2778 - acc: 0.8765 - val_loss: 0.2374 - val_acc: 0.9430\n",
            "Epoch 25/50\n",
            " - 23s - loss: 0.2694 - acc: 0.8805 - val_loss: 0.2380 - val_acc: 0.9430\n",
            "Epoch 26/50\n",
            " - 22s - loss: 0.2744 - acc: 0.8720 - val_loss: 0.2386 - val_acc: 0.9430\n",
            "Epoch 27/50\n",
            " - 22s - loss: 0.2554 - acc: 0.8930 - val_loss: 0.2415 - val_acc: 0.9430\n",
            "Epoch 28/50\n",
            " - 22s - loss: 0.2642 - acc: 0.8920 - val_loss: 0.2374 - val_acc: 0.9430\n",
            "Epoch 29/50\n",
            " - 22s - loss: 0.2772 - acc: 0.8760 - val_loss: 0.2361 - val_acc: 0.9430\n",
            "Epoch 30/50\n",
            " - 22s - loss: 0.2778 - acc: 0.8760 - val_loss: 0.2364 - val_acc: 0.9430\n",
            "Epoch 31/50\n",
            " - 22s - loss: 0.2707 - acc: 0.8825 - val_loss: 0.2366 - val_acc: 0.9430\n",
            "Epoch 32/50\n",
            " - 22s - loss: 0.2732 - acc: 0.8815 - val_loss: 0.2344 - val_acc: 0.9440\n",
            "Epoch 33/50\n",
            " - 22s - loss: 0.2696 - acc: 0.8825 - val_loss: 0.2377 - val_acc: 0.9430\n",
            "Epoch 34/50\n",
            " - 22s - loss: 0.2692 - acc: 0.8785 - val_loss: 0.2349 - val_acc: 0.9430\n"
          ],
          "name": "stdout"
        },
        {
          "output_type": "stream",
          "text": [
            "Epoch 35/50\n",
            " - 22s - loss: 0.2746 - acc: 0.8730 - val_loss: 0.2348 - val_acc: 0.9430\n",
            "Epoch 36/50\n",
            " - 23s - loss: 0.2730 - acc: 0.8850 - val_loss: 0.2338 - val_acc: 0.9440\n",
            "Epoch 37/50\n",
            " - 23s - loss: 0.2777 - acc: 0.8830 - val_loss: 0.2347 - val_acc: 0.9430\n",
            "Epoch 38/50\n",
            " - 23s - loss: 0.2659 - acc: 0.8875 - val_loss: 0.2324 - val_acc: 0.9450\n",
            "Epoch 39/50\n",
            " - 23s - loss: 0.2678 - acc: 0.8900 - val_loss: 0.2342 - val_acc: 0.9440\n",
            "Epoch 40/50\n",
            " - 22s - loss: 0.2605 - acc: 0.8875 - val_loss: 0.2314 - val_acc: 0.9460\n",
            "Epoch 41/50\n",
            " - 22s - loss: 0.2765 - acc: 0.8770 - val_loss: 0.2307 - val_acc: 0.9450\n",
            "Epoch 42/50\n",
            " - 24s - loss: 0.2619 - acc: 0.8785 - val_loss: 0.2319 - val_acc: 0.9450\n",
            "Epoch 43/50\n",
            " - 23s - loss: 0.2676 - acc: 0.8765 - val_loss: 0.2303 - val_acc: 0.9460\n",
            "Epoch 44/50\n",
            " - 22s - loss: 0.2599 - acc: 0.8930 - val_loss: 0.2289 - val_acc: 0.9460\n",
            "Epoch 45/50\n",
            " - 22s - loss: 0.2606 - acc: 0.8885 - val_loss: 0.2278 - val_acc: 0.9460\n",
            "Epoch 46/50\n",
            " - 22s - loss: 0.2722 - acc: 0.8820 - val_loss: 0.2294 - val_acc: 0.9460\n",
            "Epoch 47/50\n",
            " - 22s - loss: 0.2639 - acc: 0.8795 - val_loss: 0.2301 - val_acc: 0.9450\n",
            "Epoch 48/50\n",
            " - 22s - loss: 0.2663 - acc: 0.8890 - val_loss: 0.2299 - val_acc: 0.9450\n",
            "Epoch 49/50\n",
            " - 23s - loss: 0.2529 - acc: 0.8930 - val_loss: 0.2323 - val_acc: 0.9450\n",
            "Epoch 50/50\n",
            " - 22s - loss: 0.2586 - acc: 0.8915 - val_loss: 0.2331 - val_acc: 0.9450\n"
          ],
          "name": "stdout"
        }
      ]
    },
    {
      "metadata": {
        "id": "3EPGn58ofwq5",
        "colab_type": "text"
      },
      "cell_type": "markdown",
      "source": [
        "We are seeing a nice improvement, with the validation loss going from ~1.7 down to ~1.2, and accuracy going from 88% to 92%. That's a 4.5% relative improvement in accuracy.\n",
        "\n",
        "Let's plot the training and validation loss and accuracy to show it conclusively:"
      ]
    },
    {
      "metadata": {
        "id": "1FtxcKjJfxL9",
        "colab_type": "code",
        "colab": {
          "autoexec": {
            "startup": false,
            "wait_interval": 0
          },
          "base_uri": "https://localhost:8080/",
          "height": 560
        },
        "outputId": "5d2b7911-8653-4f6c-d8de-c84d45451e7c",
        "executionInfo": {
          "status": "ok",
          "timestamp": 1533563767492,
          "user_tz": -330,
          "elapsed": 20637,
          "user": {
            "displayName": "",
            "photoUrl": "",
            "userId": ""
          }
        }
      },
      "cell_type": "code",
      "source": [
        "%matplotlib inline\n",
        "\n",
        "import matplotlib.pyplot as plt\n",
        "import matplotlib.image as mpimg\n",
        "\n",
        "# Retrieve a list of accuracy results on training and test data\n",
        "# sets for each training epoch\n",
        "acc = history.history['acc']\n",
        "val_acc = history.history['val_acc']\n",
        "\n",
        "# Retrieve a list of list results on training and test data\n",
        "# sets for each training epoch\n",
        "loss = history.history['loss']\n",
        "val_loss = history.history['val_loss']\n",
        "\n",
        "# Get number of epochs\n",
        "epochs = range(len(acc))\n",
        "\n",
        "# Plot training and validation accuracy per epoch\n",
        "plt.plot(epochs, acc)\n",
        "plt.plot(epochs, val_acc)\n",
        "plt.title('Training and validation accuracy')\n",
        "\n",
        "plt.figure()\n",
        "\n",
        "# Plot training and validation loss per epoch\n",
        "plt.plot(epochs, loss)\n",
        "plt.plot(epochs, val_loss)\n",
        "plt.title('Training and validation loss')"
      ],
      "execution_count": 12,
      "outputs": [
        {
          "output_type": "execute_result",
          "data": {
            "text/plain": [
              "Text(0.5,1,u'Training and validation loss')"
            ]
          },
          "metadata": {
            "tags": []
          },
          "execution_count": 12
        },
        {
          "output_type": "display_data",
          "data": {
            "image/png": "[encoded data removed]",
            "text/plain": [
              "<matplotlib.figure.Figure at 0x7f77fd9337d0>"
            ]
          },
          "metadata": {
            "tags": []
          }
        },
        {
          "output_type": "display_data",
          "data": {
            "image/png": "[encoded data removed]",
            "text/plain": [
              "<matplotlib.figure.Figure at 0x7f77fd908bd0>"
            ]
          },
          "metadata": {
            "tags": []
          }
        }
      ]
    },
    {
      "metadata": {
        "id": "X-fUIeizakjE",
        "colab_type": "text"
      },
      "cell_type": "markdown",
      "source": [
        "Congratulations! Using feature extraction and fine-tuning, you've built an image classification model that can identify cats vs. dogs in images with over 90% accuracy."
      ]
    },
    {
      "metadata": {
        "id": "x_ANwJCnx7w-",
        "colab_type": "text"
      },
      "cell_type": "markdown",
      "source": [
        "## Clean Up\n",
        "\n",
        "Run the following cell to terminate the kernel and free memory resources:"
      ]
    },
    {
      "metadata": {
        "id": "-hUmyohAyBzh",
        "colab_type": "code",
        "colab": {
          "autoexec": {
            "startup": false,
            "wait_interval": 0
          }
        }
      },
      "cell_type": "code",
      "source": [
        "import os, signal\n",
        "os.kill(os.getpid(), signal.SIGKILL)"
      ],
      "execution_count": 0,
      "outputs": []
    }
  ]
}